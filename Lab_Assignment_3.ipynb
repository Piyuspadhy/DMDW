{
  "nbformat": 4,
  "nbformat_minor": 0,
  "metadata": {
    "colab": {
      "name": "Lab Assignment 3.ipynb",
      "provenance": [],
      "collapsed_sections": [],
      "authorship_tag": "ABX9TyNaOwfEOPvVClZFAtCvhaIT",
      "include_colab_link": true
    },
    "kernelspec": {
      "name": "python3",
      "display_name": "Python 3"
    },
    "language_info": {
      "name": "python"
    }
  },
  "cells": [
    {
      "cell_type": "markdown",
      "metadata": {
        "id": "view-in-github",
        "colab_type": "text"
      },
      "source": [
        "<a href=\"https://colab.research.google.com/github/Piyuspadhy/DMDW/blob/main/Lab_Assignment_3.ipynb\" target=\"_parent\"><img src=\"https://colab.research.google.com/assets/colab-badge.svg\" alt=\"Open In Colab\"/></a>"
      ]
    },
    {
      "cell_type": "code",
      "metadata": {
        "id": "ENyy5BvE05Xs"
      },
      "source": [
        " from numpy import *"
      ],
      "execution_count": null,
      "outputs": []
    },
    {
      "cell_type": "code",
      "metadata": {
        "id": "bkgHYxwulImI"
      },
      "source": [
        "X=[7.8,8.2,8.7,9.2,9.5]\n",
        "Y=[3,3.2,3.8,4.1,4.4]"
      ],
      "execution_count": null,
      "outputs": []
    },
    {
      "cell_type": "markdown",
      "metadata": {
        "id": "1J4ubZX4YpRo"
      },
      "source": [
        "#Variance using Library Function"
      ]
    },
    {
      "cell_type": "code",
      "metadata": {
        "id": "repioPQslXIf",
        "colab": {
          "base_uri": "https://localhost:8080/"
        },
        "outputId": "f33595e8-ebd1-4871-c670-3dc850a23ca4"
      },
      "source": [
        "print(\"Variance of X=\", var(X))\n",
        "print(\"Variance of Y=\", var(Y))"
      ],
      "execution_count": null,
      "outputs": [
        {
          "output_type": "stream",
          "name": "stdout",
          "text": [
            "Variance of X= 0.38960000000000006\n",
            "Variance of Y= 0.27999999999999997\n"
          ]
        }
      ]
    },
    {
      "cell_type": "markdown",
      "metadata": {
        "id": "F2YS4-pxY1GP"
      },
      "source": [
        "#Variance without using library function"
      ]
    },
    {
      "cell_type": "code",
      "metadata": {
        "id": "hmk7AzRml0Rt",
        "colab": {
          "base_uri": "https://localhost:8080/"
        },
        "outputId": "b48d1237-fb99-4dc1-bb7b-3eed5269cf6c"
      },
      "source": [
        "m= sum(X)/len(X)\n",
        "res1= sum((i-m)**2 for i in X)/len(X)\n",
        "n= sum(Y)/len(Y)\n",
        "res2= sum((i-n)**2 for i in Y)/len(Y)\n",
        "print(\"Variance of X=\", str(res1))\n",
        "print(\"Variance of Y=\", str(res2))"
      ],
      "execution_count": null,
      "outputs": [
        {
          "output_type": "stream",
          "name": "stdout",
          "text": [
            "Variance of X= 0.38960000000000006\n",
            "Variance of Y= 0.27999999999999997\n"
          ]
        },
        {
          "output_type": "stream",
          "name": "stderr",
          "text": [
            "/usr/local/lib/python3.7/dist-packages/ipykernel_launcher.py:2: DeprecationWarning: Calling np.sum(generator) is deprecated, and in the future will give a different result. Use np.sum(np.fromiter(generator)) or the python sum builtin instead.\n",
            "  \n",
            "/usr/local/lib/python3.7/dist-packages/ipykernel_launcher.py:4: DeprecationWarning: Calling np.sum(generator) is deprecated, and in the future will give a different result. Use np.sum(np.fromiter(generator)) or the python sum builtin instead.\n",
            "  after removing the cwd from sys.path.\n"
          ]
        }
      ]
    },
    {
      "cell_type": "markdown",
      "metadata": {
        "id": "eyE8cHA1Y_3P"
      },
      "source": [
        "#Covariance without using library function"
      ]
    },
    {
      "cell_type": "code",
      "metadata": {
        "id": "gWXP78CipRo9",
        "colab": {
          "base_uri": "https://localhost:8080/"
        },
        "outputId": "eb51454d-7ef7-44ff-844a-24a67ec3dc4b"
      },
      "source": [
        "res= sum((X[i]-m)*(Y[i]-n) for i in range(len(X)))/len(Y)\n",
        "print(\"Covariance=\",res)"
      ],
      "execution_count": null,
      "outputs": [
        {
          "output_type": "stream",
          "name": "stdout",
          "text": [
            "Covariance= 0.328\n"
          ]
        },
        {
          "output_type": "stream",
          "name": "stderr",
          "text": [
            "/usr/local/lib/python3.7/dist-packages/ipykernel_launcher.py:1: DeprecationWarning: Calling np.sum(generator) is deprecated, and in the future will give a different result. Use np.sum(np.fromiter(generator)) or the python sum builtin instead.\n",
            "  \"\"\"Entry point for launching an IPython kernel.\n"
          ]
        }
      ]
    },
    {
      "cell_type": "markdown",
      "metadata": {
        "id": "SLhYKIcMZISP"
      },
      "source": [
        "#Covariance using library function"
      ]
    },
    {
      "cell_type": "code",
      "metadata": {
        "id": "zhPkcESgqbrq",
        "colab": {
          "base_uri": "https://localhost:8080/"
        },
        "outputId": "525c6506-faab-4c58-ddb0-cf77242386c3"
      },
      "source": [
        "print(\"Covariance =\",cov(X,Y))"
      ],
      "execution_count": null,
      "outputs": [
        {
          "output_type": "stream",
          "name": "stdout",
          "text": [
            "Covariance = [[0.487 0.41 ]\n",
            " [0.41  0.35 ]]\n"
          ]
        }
      ]
    },
    {
      "cell_type": "markdown",
      "metadata": {
        "id": "3O0TSPH9ZYEw"
      },
      "source": [
        "#Correlation without using library function"
      ]
    },
    {
      "cell_type": "code",
      "metadata": {
        "id": "hgfUAxAnte6K",
        "colab": {
          "base_uri": "https://localhost:8080/"
        },
        "outputId": "2e5114f8-97c2-4d3d-fca3-f216c88b2720"
      },
      "source": [
        "print(\"Correlation=\",(res/((res1*res2)**0.5)))"
      ],
      "execution_count": null,
      "outputs": [
        {
          "output_type": "stream",
          "name": "stdout",
          "text": [
            "Correlation= 0.9930825573330169\n"
          ]
        }
      ]
    },
    {
      "cell_type": "markdown",
      "metadata": {
        "id": "7CqAMfYHZd_3"
      },
      "source": [
        "#Correlation matrix using library function"
      ]
    },
    {
      "cell_type": "code",
      "metadata": {
        "id": "2mVjIEC-wp0p",
        "colab": {
          "base_uri": "https://localhost:8080/"
        },
        "outputId": "db788d05-0457-4deb-948f-cb2723975da8"
      },
      "source": [
        "print(corrcoef(X,Y))"
      ],
      "execution_count": null,
      "outputs": [
        {
          "output_type": "stream",
          "name": "stdout",
          "text": [
            "[[1.         0.99308256]\n",
            " [0.99308256 1.        ]]\n"
          ]
        }
      ]
    }
  ]
}